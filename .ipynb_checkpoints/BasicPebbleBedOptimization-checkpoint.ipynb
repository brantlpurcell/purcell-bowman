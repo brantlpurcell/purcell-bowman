{
 "cells": [
  {
   "cell_type": "code",
   "execution_count": 1,
   "id": "ce4c1d70-bb90-4d43-ae2c-aaf252f3d4b4",
   "metadata": {},
   "outputs": [
    {
     "ename": "ModuleNotFoundError",
     "evalue": "No module named 'openmc'",
     "output_type": "error",
     "traceback": [
      "\u001b[0;31m---------------------------------------------------------------------------\u001b[0m",
      "\u001b[0;31mModuleNotFoundError\u001b[0m                       Traceback (most recent call last)",
      "Cell \u001b[0;32mIn[1], line 1\u001b[0m\n\u001b[0;32m----> 1\u001b[0m \u001b[38;5;28;01mimport\u001b[39;00m \u001b[38;5;21;01mopenmc\u001b[39;00m\n\u001b[1;32m      2\u001b[0m \u001b[38;5;28;01mimport\u001b[39;00m \u001b[38;5;21;01mopenmc\u001b[39;00m\u001b[38;5;21;01m.\u001b[39;00m\u001b[38;5;21;01mdeplete\u001b[39;00m\n\u001b[1;32m      3\u001b[0m \u001b[38;5;28;01mimport\u001b[39;00m \u001b[38;5;21;01mmatplotlib\u001b[39;00m\u001b[38;5;21;01m.\u001b[39;00m\u001b[38;5;21;01mpyplot\u001b[39;00m \u001b[38;5;28;01mas\u001b[39;00m \u001b[38;5;21;01mplt\u001b[39;00m\n",
      "\u001b[0;31mModuleNotFoundError\u001b[0m: No module named 'openmc'"
     ]
    }
   ],
   "source": [
    "import openmc\n",
    "import openmc.deplete\n",
    "import matplotlib.pyplot as plt\n",
    "%matplotlib inline\n",
    "import numpy as np\n",
    "from math import pi\n",
    "import xml.etree.ElementTree as et\n",
    "import os"
   ]
  },
  {
   "cell_type": "code",
   "execution_count": null,
   "id": "0e8c7139-c492-45d2-8c21-8b4bf1730748",
   "metadata": {},
   "outputs": [],
   "source": [
    "trisoPkFrac = 0.3\n",
    "pebblePkFrac = 0.64\n",
    "\n",
    "\n",
    "erchPercent =[5,5]# range(5,21)\n",
    "U_form = 1;\n",
    "O_form = 2;\n",
    "rho_fuel = 10.96; # g/cm3\n",
    "\n",
    "trisoPartThicknesses = [253.5, 97.7, 41.9, 37.5, 45.6]; #um\n",
    "\n",
    "coolTemp = 450+273.15 #C -> K\n",
    "coolPres = 8 #MPa"
   ]
  },
  {
   "cell_type": "code",
   "execution_count": null,
   "id": "7e59cf26",
   "metadata": {},
   "outputs": [],
   "source": [
    "\n",
    "#      Buffer\n",
    "buffer = openmc.Material(name='Buffer')\n",
    "buffer.set_density('g/cm3', 1.0)\n",
    "buffer.add_element('C', 1.0)\n",
    "#buffer.add_s_alpha_beta('c_Graphite')\n",
    "\n",
    "#      IPyC\n",
    "IPyC = openmc.Material(name='IPyC')\n",
    "IPyC.set_density('g/cm3', 1.9)\n",
    "IPyC.add_element('C', 1.0)\n",
    "#IPyC.add_s_alpha_beta('c_Graphite')\n",
    "\n",
    "#      SiC\n",
    "SiC = openmc.Material(name='SiC')\n",
    "SiC.set_density('g/cm3', 3.2)\n",
    "SiC.add_element('C', 0.5)\n",
    "SiC.add_element('Si', 0.5)\n",
    "\n",
    "#      OPyC\n",
    "OPyC = openmc.Material(name='OPyC')\n",
    "OPyC.set_density('g/cm3', 1.87)\n",
    "OPyC.add_element('C', 1.0)\n",
    "#OPyC.add_s_alpha_beta('c_Graphite')\n",
    "\n",
    "# Moderator\n",
    "graphite = openmc.Material()\n",
    "graphite.set_density('g/cm3', 1.1995)\n",
    "graphite.add_element('C', 1.0)\n",
    "#graphite.add_s_alpha_beta('c_Graphite')\n",
    "\n",
    "# Coolant\n",
    "He = openmc.Material(name='He')\n",
    "He.set_density('g/cm3',coolPres/coolTemp/2.0771)\n",
    "He.add_element('He',1.0)\n",
    "He.temperature = coolTemp"
   ]
  },
  {
   "cell_type": "code",
   "execution_count": null,
   "id": "4fb84336",
   "metadata": {},
   "outputs": [],
   "source": [
    "#B5\n",
    "trisoPartRads = trisoPartThicknesses\n",
    "for i in range(1,5):\n",
    "    trisoPartRads[i] += trisoPartRads[i-1]\n",
    "trisoPartVolFracs = trisoPartRads\n",
    "for i in range(5):\n",
    "    trisoPartVolFracs[i] = (trisoPartRads[i]/trisoPartRads[4])**3\n",
    "for i in range(4):\n",
    "    trisoPartVolFracs[4-i] -= trisoPartVolFracs[3-i]\n",
    "    \n"
   ]
  },
  {
   "cell_type": "code",
   "execution_count": null,
   "id": "799897cd",
   "metadata": {},
   "outputs": [],
   "source": [
    "#B6\n",
    "pebbleRads = [25, 30]\n",
    "#pebbleVol = 4/3*Math.pi*pebbleRads(1)^3\n",
    "pebbleVolFracs = pebbleRads\n",
    "for i in range(2):\n",
    "    pebbleVolFracs[i] = (pebbleRads[i]/pebbleRads[1])**3\n",
    "pebbleVolFracs[1] -= pebbleVolFracs[0]"
   ]
  },
  {
   "cell_type": "code",
   "execution_count": null,
   "id": "34d323db",
   "metadata": {},
   "outputs": [],
   "source": [
    "#B8\n",
    "    space = openmc.model.RectangularParallelepiped(-15, 15, -15, 15, -15, 15, boundary_type = 'reflective')\n",
    "    rxr = openmc.Cell(fill=homogCore, region=-space)\n",
    "    universe = openmc.Universe(cells=[rxr])\n",
    "    geometry = openmc.Geometry()\n",
    "    geometry.root_universe = universe\n",
    "    geometry.export_to_xml()\n",
    "    settings = openmc.Settings()\n",
    "    settings.run_mode = 'eigenvalue'\n",
    "    settings.particles = 25000\n",
    "    settings.batches = 45\n",
    "    settings.inactive = 15\n",
    "    settings.temperature={'method':'interpolation','range':(250,2500)}\n",
    "    settings.export_to_xml()\n"
   ]
  },
  {
   "cell_type": "code",
   "execution_count": null,
   "id": "c563178b-f2fe-4fbd-865d-10fe9f3804ab",
   "metadata": {},
   "outputs": [],
   "source": [
    "#Enrichment Optimization\n",
    "k_inf_erchPercent = []\n",
    "for epi in erchPercent:\n",
    "    #B4\n",
    "    # TRISO Particles\n",
    "    \n",
    "    #      Fuel Kernel\n",
    "    fuel = openmc.Material(name=\"fuel\")\n",
    "    fuel.set_density('g/cm3', rho_fuel)\n",
    "    fuel.add_nuclide('U235',erchPercent[epi]/100*U_form/(U_form+O_form))\n",
    "    fuel.add_nuclide('U238',((1-erchPercent[epi]/100)*U_form/(U_form+O_form)))\n",
    "    fuel.add_element('O', O_form/(U_form+O_form))\n",
    "\n",
    "    \n",
    "    homogTrisoPart = openmc.Material.mix_materials([fuel, buffer, IPyC, SiC, OPyC], trisoPartVolFracs, 'vo')\n",
    "\n",
    "    homogTrisoPebCore = openmc.Material.mix_materials([homogTrisoPart,graphite], [trisoPkFrac, 1-trisoPkFrac], 'vo');\n",
    "    homogTrisoPebble = openmc.Material.mix_materials([homogTrisoPebCore, graphite], pebbleVolFracs, 'vo');\n",
    "\n",
    "\n",
    "    #B7\n",
    "    homogCore = openmc.Material.mix_materials([homogTrisoPebble, He], [pebblePkFrac, 1-pebblePkFrac], 'vo')\n",
    "    homogCore.add_s_alpha_beta('c_Graphite')\n",
    "    materials = openmc.Materials()\n",
    "    materials += [homogCore]\n",
    "    materials.export_to_xml()\n",
    "\n",
    "\n",
    "    \n",
    "\n",
    "    #B9\n",
    "    num_threads_des = 36  # set as desired.  Can be useful to ensure you do not take over all the resources for a machine\n",
    "    num_threads = min(os.cpu_count(),num_threads_des); # prevent asking for more threads than OMP_NUM_THREADS\n",
    "    \n",
    "    openmc.run(threads = num_threads, output=True)\n",
    "    sp = openmc.StatePoint('statepoint.45.h5')\n",
    "    keff = sp.keff\n",
    "    k_inf_erchPercent.append(keff.nominal_value)\n",
    "    sp.close()"
   ]
  },
  {
   "cell_type": "code",
   "execution_count": null,
   "id": "e3c3d99e-7552-477c-8810-196992c39b80",
   "metadata": {},
   "outputs": [],
   "source": [
    "    "
   ]
  },
  {
   "cell_type": "code",
   "execution_count": null,
   "id": "231b3b99-69c2-4950-b66b-c992fb0271fd",
   "metadata": {
    "scrolled": true
   },
   "outputs": [],
   "source": []
  },
  {
   "cell_type": "code",
   "execution_count": null,
   "id": "7834a5af-5651-4de2-bd0e-01460edacd5a",
   "metadata": {},
   "outputs": [],
   "source": []
  },
  {
   "cell_type": "code",
   "execution_count": null,
   "id": "72e82e8b-354e-47bf-aaf6-c6ad61193a94",
   "metadata": {},
   "outputs": [],
   "source": []
  },
  {
   "cell_type": "code",
   "execution_count": null,
   "id": "fff6099f-ad46-45c7-8bed-728c6cf8e113",
   "metadata": {},
   "outputs": [],
   "source": [
    "    "
   ]
  },
  {
   "cell_type": "code",
   "execution_count": null,
   "id": "2457a39a-d5bc-44be-a076-4b40ca38a358",
   "metadata": {},
   "outputs": [],
   "source": []
  },
  {
   "cell_type": "code",
   "execution_count": null,
   "id": "5fd4c441-4a09-46e7-9c79-573b26105257",
   "metadata": {},
   "outputs": [],
   "source": []
  },
  {
   "cell_type": "code",
   "execution_count": null,
   "id": "dd0f0f05-95cb-4ec4-aaea-3839d5825888",
   "metadata": {},
   "outputs": [],
   "source": [
    "print(k_inf_erchPercent)"
   ]
  }
 ],
 "metadata": {
  "kernelspec": {
   "display_name": "Python 3 (ipykernel)",
   "language": "python",
   "name": "python3"
  },
  "language_info": {
   "codemirror_mode": {
    "name": "ipython",
    "version": 3
   },
   "file_extension": ".py",
   "mimetype": "text/x-python",
   "name": "python",
   "nbconvert_exporter": "python",
   "pygments_lexer": "ipython3",
   "version": "3.11.4"
  }
 },
 "nbformat": 4,
 "nbformat_minor": 5
}
