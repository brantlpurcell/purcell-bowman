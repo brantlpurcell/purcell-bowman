{
 "cells": [
  {
   "cell_type": "code",
   "execution_count": 1,
   "id": "ce4c1d70-bb90-4d43-ae2c-aaf252f3d4b4",
   "metadata": {},
   "outputs": [],
   "source": [
    "import openmc\n",
    "import openmc.deplete\n",
    "import matplotlib.pyplot as plt\n",
    "%matplotlib inline\n",
    "import numpy as np\n",
    "from math import pi\n",
    "import xml.etree.ElementTree as et"
   ]
  },
  {
   "cell_type": "code",
   "execution_count": 2,
   "id": "0e8c7139-c492-45d2-8c21-8b4bf1730748",
   "metadata": {},
   "outputs": [],
   "source": [
    "trisoPkFrac = 0.3\n",
    "pebblePkFrac = 0.64\n",
    "\n",
    "erchPercent = 0.20;\n",
    "U_form = 1;\n",
    "O_form = 2;\n",
    "rho_fuel = 10.96; # g/cm3\n",
    "\n",
    "trisoPartThicknesses = [253.5, 97.7, 41.9, 37.5, 45.6]; #um\n",
    "\n",
    "coolTemp = 850+273.15 #C -> K\n",
    "coolPres = 8 #MPa"
   ]
  },
  {
   "cell_type": "code",
   "execution_count": 3,
   "id": "e3c3d99e-7552-477c-8810-196992c39b80",
   "metadata": {},
   "outputs": [],
   "source": [
    "# TRISO Particles\n",
    "\n",
    "#      Fuel Kernel\n",
    "fuel = openmc.Material(name=\"fuel\")\n",
    "fuel.set_density('g/cm3', rho_fuel)\n",
    "fuel.add_nuclide('U235',erchPercent*U_form/(U_form+O_form))\n",
    "fuel.add_nuclide('U238',(1-erchPercent)*U_form/(U_form+O_form))\n",
    "fuel.add_element('O', O_form/(U_form+O_form))\n",
    "\n",
    "#      Buffer\n",
    "buffer = openmc.Material(name='Buffer')\n",
    "buffer.set_density('g/cm3', 1.0)\n",
    "buffer.add_element('C', 1.0)\n",
    "#buffer.add_s_alpha_beta('c_Graphite')\n",
    "\n",
    "#      IPyC\n",
    "IPyC = openmc.Material(name='IPyC')\n",
    "IPyC.set_density('g/cm3', 1.9)\n",
    "IPyC.add_element('C', 1.0)\n",
    "#IPyC.add_s_alpha_beta('c_Graphite')\n",
    "\n",
    "#      SiC\n",
    "SiC = openmc.Material(name='SiC')\n",
    "SiC.set_density('g/cm3', 3.2)\n",
    "SiC.add_element('C', 0.5)\n",
    "SiC.add_element('Si', 0.5)\n",
    "\n",
    "#      OPyC\n",
    "OPyC = openmc.Material(name='OPyC')\n",
    "OPyC.set_density('g/cm3', 1.87)\n",
    "OPyC.add_element('C', 1.0)\n",
    "#OPyC.add_s_alpha_beta('c_Graphite')\n",
    "\n",
    "# Moderator\n",
    "graphite = openmc.Material()\n",
    "graphite.set_density('g/cm3', 1.1995)\n",
    "graphite.add_element('C', 1.0)\n",
    "#graphite.add_s_alpha_beta('c_Graphite')\n",
    "\n",
    "# Coolant\n",
    "He = openmc.Material(name='He')\n",
    "He.set_density('g/cm3',coolPres/coolTemp/2.0771)\n",
    "He.add_element('He',1.0)\n",
    "He.temperature = coolTemp"
   ]
  },
  {
   "cell_type": "code",
   "execution_count": 4,
   "id": "231b3b99-69c2-4950-b66b-c992fb0271fd",
   "metadata": {
    "scrolled": true
   },
   "outputs": [],
   "source": [
    "trisoPartRads = trisoPartThicknesses\n",
    "for i in range(1,5):\n",
    "    trisoPartRads[i] += trisoPartRads[i-1]\n",
    "trisoPartVolFracs = trisoPartRads\n",
    "for i in range(5):\n",
    "    trisoPartVolFracs[i] = (trisoPartRads[i]/trisoPartRads[4])**3\n",
    "for i in range(4):\n",
    "    trisoPartVolFracs[4-i] -= trisoPartVolFracs[3-i]\n",
    "homogTrisoPart = openmc.Material.mix_materials([fuel, buffer, IPyC, SiC, OPyC], trisoPartVolFracs, 'vo')"
   ]
  },
  {
   "cell_type": "code",
   "execution_count": 6,
   "id": "7834a5af-5651-4de2-bd0e-01460edacd5a",
   "metadata": {},
   "outputs": [],
   "source": [
    "pebbleRads = [25, 30]\n",
    "#pebbleVol = 4/3*Math.pi*pebbleRads(1)^3\n",
    "pebbleVolFracs = pebbleRads\n",
    "for i in range(2):\n",
    "    pebbleVolFracs[i] = (pebbleRads[i]/pebbleRads[1])**3\n",
    "pebbleVolFracs[1] -= pebbleVolFracs[0]\n",
    "homogTrisoPebCore = openmc.Material.mix_materials([homogTrisoPart,graphite], [trisoPkFrac, 1-trisoPkFrac], 'vo');\n",
    "homogTrisoPebble = openmc.Material.mix_materials([homogTrisoPebCore, graphite], pebbleVolFracs, 'vo');"
   ]
  },
  {
   "cell_type": "code",
   "execution_count": 9,
   "id": "72e82e8b-354e-47bf-aaf6-c6ad61193a94",
   "metadata": {},
   "outputs": [],
   "source": [
    "homogCore = openmc.Material.mix_materials([homogTrisoPebble, He], [pebblePkFrac, 1-pebblePkFrac], 'vo')\n",
    "homogCore.add_s_alpha_beta('c_Graphite')"
   ]
  },
  {
   "cell_type": "code",
   "execution_count": 16,
   "id": "fff6099f-ad46-45c7-8bed-728c6cf8e113",
   "metadata": {},
   "outputs": [],
   "source": [
    "space = openmc.model.RectangularParallelepiped(-15, 15, -15, 15, -15, 15, boundary_type = 'reflective')\n",
    "rxr = openmc.Cell(fill=homogCore, region=-space)\n",
    "settings = openmc.Settings()\n",
    "settings.run_mode = 'eigenvalue'\n",
    "settings.particles = 50000\n",
    "settings.batches = 250\n",
    "settings.inactive = 50\n",
    "settings.export_to_xml()"
   ]
  },
  {
   "cell_type": "code",
   "execution_count": 17,
   "id": "2457a39a-d5bc-44be-a076-4b40ca38a358",
   "metadata": {},
   "outputs": [
    {
     "name": "stdout",
     "output_type": "stream",
     "text": [
      "                                %%%%%%%%%%%%%%%\n",
      "                           %%%%%%%%%%%%%%%%%%%%%%%%\n",
      "                        %%%%%%%%%%%%%%%%%%%%%%%%%%%%%%\n",
      "                      %%%%%%%%%%%%%%%%%%%%%%%%%%%%%%%%%%\n",
      "                    %%%%%%%%%%%%%%%%%%%%%%%%%%%%%%%%%%%%%%\n",
      "                   %%%%%%%%%%%%%%%%%%%%%%%%%%%%%%%%%%%%%%%%\n",
      "                                    %%%%%%%%%%%%%%%%%%%%%%%%\n",
      "                                     %%%%%%%%%%%%%%%%%%%%%%%%\n",
      "                 ###############      %%%%%%%%%%%%%%%%%%%%%%%%\n",
      "                ##################     %%%%%%%%%%%%%%%%%%%%%%%\n",
      "                ###################     %%%%%%%%%%%%%%%%%%%%%%%\n",
      "                ####################     %%%%%%%%%%%%%%%%%%%%%%\n",
      "                #####################     %%%%%%%%%%%%%%%%%%%%%\n",
      "                ######################     %%%%%%%%%%%%%%%%%%%%\n",
      "                #######################     %%%%%%%%%%%%%%%%%%\n",
      "                 #######################     %%%%%%%%%%%%%%%%%\n",
      "                 ######################     %%%%%%%%%%%%%%%%%\n",
      "                  ####################     %%%%%%%%%%%%%%%%%\n",
      "                    #################     %%%%%%%%%%%%%%%%%\n",
      "                     ###############     %%%%%%%%%%%%%%%%\n",
      "                       ############     %%%%%%%%%%%%%%%\n",
      "                          ########     %%%%%%%%%%%%%%\n",
      "                                      %%%%%%%%%%%\n",
      "\n",
      "                 | The OpenMC Monte Carlo Code\n",
      "       Copyright | 2011-2023 MIT, UChicago Argonne LLC, and contributors\n",
      "         License | https://docs.openmc.org/en/latest/license.html\n",
      "         Version | 0.13.3\n",
      "        Git SHA1 | 50e39a4e20dc9e0f3d7ccf07333f6a5e6c797c8c\n",
      "       Date/Time | 2023-11-03 06:16:59\n",
      "  OpenMP Threads | 24\n",
      "\n",
      " Reading settings XML file...\n",
      " Reading cross sections XML file...\n",
      " Reading materials XML file...\n",
      " Reading geometry XML file...\n",
      " Reading C12 from /home/m245244/omc_data/lib80x_hdf5/C12.h5\n",
      " ERROR: Nuclear data library does not contain cross sections for C12 at or near\n",
      "        800.000000 K.\n"
     ]
    },
    {
     "ename": "RuntimeError",
     "evalue": "Nuclear data library does not contain cross sections for C12 at or near 800.000000 K.",
     "output_type": "error",
     "traceback": [
      "\u001b[0;31m---------------------------------------------------------------------------\u001b[0m",
      "\u001b[0;31mRuntimeError\u001b[0m                              Traceback (most recent call last)",
      "Cell \u001b[0;32mIn[17], line 6\u001b[0m\n\u001b[1;32m      3\u001b[0m num_threads_des \u001b[38;5;241m=\u001b[39m \u001b[38;5;241m24\u001b[39m  \u001b[38;5;66;03m# set as desired.  Can be useful to ensure you do not take over all the resources for a machine\u001b[39;00m\n\u001b[1;32m      4\u001b[0m num_threads \u001b[38;5;241m=\u001b[39m \u001b[38;5;28mmin\u001b[39m(os\u001b[38;5;241m.\u001b[39mcpu_count(),num_threads_des); \u001b[38;5;66;03m# prevent asking for more threads than OMP_NUM_THREADS\u001b[39;00m\n\u001b[0;32m----> 6\u001b[0m \u001b[43mopenmc\u001b[49m\u001b[38;5;241;43m.\u001b[39;49m\u001b[43mrun\u001b[49m\u001b[43m(\u001b[49m\u001b[43mthreads\u001b[49m\u001b[43m \u001b[49m\u001b[38;5;241;43m=\u001b[39;49m\u001b[43m \u001b[49m\u001b[43mnum_threads\u001b[49m\u001b[43m)\u001b[49m\n",
      "File \u001b[0;32m~/anaconda3/envs/openmc-env/lib/python3.11/site-packages/openmc/executor.py:314\u001b[0m, in \u001b[0;36mrun\u001b[0;34m(particles, threads, geometry_debug, restart_file, tracks, output, cwd, openmc_exec, mpi_args, event_based, path_input)\u001b[0m\n\u001b[1;32m    261\u001b[0m \u001b[38;5;250m\u001b[39m\u001b[38;5;124;03m\"\"\"Run an OpenMC simulation.\u001b[39;00m\n\u001b[1;32m    262\u001b[0m \n\u001b[1;32m    263\u001b[0m \u001b[38;5;124;03mParameters\u001b[39;00m\n\u001b[0;32m   (...)\u001b[0m\n\u001b[1;32m    305\u001b[0m \n\u001b[1;32m    306\u001b[0m \u001b[38;5;124;03m\"\"\"\u001b[39;00m\n\u001b[1;32m    308\u001b[0m args \u001b[38;5;241m=\u001b[39m _process_CLI_arguments(\n\u001b[1;32m    309\u001b[0m     volume\u001b[38;5;241m=\u001b[39m\u001b[38;5;28;01mFalse\u001b[39;00m, geometry_debug\u001b[38;5;241m=\u001b[39mgeometry_debug, particles\u001b[38;5;241m=\u001b[39mparticles,\n\u001b[1;32m    310\u001b[0m     restart_file\u001b[38;5;241m=\u001b[39mrestart_file, threads\u001b[38;5;241m=\u001b[39mthreads, tracks\u001b[38;5;241m=\u001b[39mtracks,\n\u001b[1;32m    311\u001b[0m     event_based\u001b[38;5;241m=\u001b[39mevent_based, openmc_exec\u001b[38;5;241m=\u001b[39mopenmc_exec, mpi_args\u001b[38;5;241m=\u001b[39mmpi_args,\n\u001b[1;32m    312\u001b[0m     path_input\u001b[38;5;241m=\u001b[39mpath_input)\n\u001b[0;32m--> 314\u001b[0m \u001b[43m_run\u001b[49m\u001b[43m(\u001b[49m\u001b[43margs\u001b[49m\u001b[43m,\u001b[49m\u001b[43m \u001b[49m\u001b[43moutput\u001b[49m\u001b[43m,\u001b[49m\u001b[43m \u001b[49m\u001b[43mcwd\u001b[49m\u001b[43m)\u001b[49m\n",
      "File \u001b[0;32m~/anaconda3/envs/openmc-env/lib/python3.11/site-packages/openmc/executor.py:125\u001b[0m, in \u001b[0;36m_run\u001b[0;34m(args, output, cwd)\u001b[0m\n\u001b[1;32m    122\u001b[0m     error_msg \u001b[38;5;241m=\u001b[39m \u001b[38;5;124m'\u001b[39m\u001b[38;5;124mOpenMC aborted unexpectedly.\u001b[39m\u001b[38;5;124m'\u001b[39m\n\u001b[1;32m    123\u001b[0m error_msg \u001b[38;5;241m=\u001b[39m \u001b[38;5;124m'\u001b[39m\u001b[38;5;124m \u001b[39m\u001b[38;5;124m'\u001b[39m\u001b[38;5;241m.\u001b[39mjoin(error_msg\u001b[38;5;241m.\u001b[39msplit())\n\u001b[0;32m--> 125\u001b[0m \u001b[38;5;28;01mraise\u001b[39;00m \u001b[38;5;167;01mRuntimeError\u001b[39;00m(error_msg)\n",
      "\u001b[0;31mRuntimeError\u001b[0m: Nuclear data library does not contain cross sections for C12 at or near 800.000000 K."
     ]
    }
   ],
   "source": [
    "import os\n",
    "\n",
    "num_threads_des = 24  # set as desired.  Can be useful to ensure you do not take over all the resources for a machine\n",
    "num_threads = min(os.cpu_count(),num_threads_des); # prevent asking for more threads than OMP_NUM_THREADS\n",
    "\n",
    "openmc.run(threads = num_threads)"
   ]
  }
 ],
 "metadata": {
  "kernelspec": {
   "display_name": "Python 3 (ipykernel)",
   "language": "python",
   "name": "python3"
  },
  "language_info": {
   "codemirror_mode": {
    "name": "ipython",
    "version": 3
   },
   "file_extension": ".py",
   "mimetype": "text/x-python",
   "name": "python",
   "nbconvert_exporter": "python",
   "pygments_lexer": "ipython3",
   "version": "3.11.5"
  }
 },
 "nbformat": 4,
 "nbformat_minor": 5
}
