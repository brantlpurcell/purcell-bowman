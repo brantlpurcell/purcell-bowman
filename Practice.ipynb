{
 "cells": [
  {
   "cell_type": "markdown",
   "id": "867a3389",
   "metadata": {},
   "source": [
    "# Gas Cooled Reactor Practice"
   ]
  },
  {
   "cell_type": "code",
   "execution_count": 1,
   "id": "04e66106",
   "metadata": {},
   "outputs": [
    {
     "ename": "ModuleNotFoundError",
     "evalue": "No module named 'openmc'",
     "output_type": "error",
     "traceback": [
      "\u001b[0;31m---------------------------------------------------------------------------\u001b[0m",
      "\u001b[0;31mModuleNotFoundError\u001b[0m                       Traceback (most recent call last)",
      "Cell \u001b[0;32mIn[1], line 1\u001b[0m\n\u001b[0;32m----> 1\u001b[0m \u001b[38;5;28;01mimport\u001b[39;00m \u001b[38;5;21;01mopenmc\u001b[39;00m\n\u001b[1;32m      2\u001b[0m \u001b[38;5;28;01mimport\u001b[39;00m \u001b[38;5;21;01mopenmc\u001b[39;00m\u001b[38;5;21;01m.\u001b[39;00m\u001b[38;5;21;01mdeplete\u001b[39;00m\n\u001b[1;32m      3\u001b[0m \u001b[38;5;28;01mimport\u001b[39;00m \u001b[38;5;21;01mmatplotlib\u001b[39;00m\u001b[38;5;21;01m.\u001b[39;00m\u001b[38;5;21;01mpyplot\u001b[39;00m \u001b[38;5;28;01mas\u001b[39;00m \u001b[38;5;21;01mplt\u001b[39;00m\n",
      "\u001b[0;31mModuleNotFoundError\u001b[0m: No module named 'openmc'"
     ]
    }
   ],
   "source": [
    "import openmc\n",
    "import openmc.deplete\n",
    "import matplotlib.pyplot as plt\n",
    "%matplotlib inline\n",
    "import numpy as np\n",
    "from math import pi\n",
    "import xml.etree.ElementTree as et"
   ]
  },
  {
   "cell_type": "code",
   "execution_count": null,
   "id": "02d58490",
   "metadata": {},
   "outputs": [],
   "source": [
    "# fuel materials from er362_omc > examples > microreactor > haleu_gcr > pf0p3\n",
    "\n",
    "# HALEU in triso particles in graphite matrix\n",
    "# packing factor = 0.3\n",
    "fuel = openmc.Material(name=\"fuel_compact\")\n",
    "fuel.set_density('atom/b-cm',8.3732e-2) # To Do: implement a better method for adjusting triso fuel parameters\n",
    "fuel.add_nuclide('U235',2.11720e-4)\n",
    "fuel.add_nuclide('U238',8.5221e-4)\n",
    "fuel.add_element('C',7.7953e-2)\n",
    "fuel.add_element('O',2.1279e-3)\n",
    "fuel.add_element('S',2.5875e-3)\n",
    "fuel.add_s_alpha_beta('c_Graphite')\n",
    "fuel.depletable = True\n",
    "\n",
    "\n",
    "coolant = openmc.Material(name='He')\n",
    "coolant.set_density('g/cm3',1.86e-3) # at 3MPa, 500 C (need to fix)\n",
    "coolant.add_element('He',1.0)\n",
    " # no s_alpha_beta for Helium??\n",
    "    \n",
    "    \n",
    "mod = openmc.Material(name='Graphite')\n",
    "mod.set_density('g/cm3',1.7)\n",
    "mod.add_element('C',1)\n",
    "mod.add_s_alpha_beta('c_Graphite')\n",
    "\n",
    "materials = openmc.Materials([fuel,coolant,mod]);"
   ]
  },
  {
   "cell_type": "code",
   "execution_count": null,
   "id": "5027208a",
   "metadata": {},
   "outputs": [],
   "source": [
    "h_core = 300.; \n",
    "h_fuel = 200.;\n",
    "\n",
    "r_fuel = 0.6; #cm, radius of fuel compact\n",
    "r_channel = 0.8;#cm, radius of fuel channel \n",
    "\n",
    "P_D = 1.58\n",
    "\n",
    "pitch = P_D*(2*r_channel);\n",
    "\n",
    "fuel_temp = 1200; # K, representative fuel temperature (?)\n",
    "mod_temp = 800; # K, representative moderator temperature (?)\n",
    "\n",
    "# fuel cylinder:\n",
    "fuel_cyl = openmc.model.RightCircularCylinder([0.,0.,-h_fuel/2.],\n",
    "                                             h_fuel, r_fuel);\n",
    "\n",
    "fuel.volume = np.pi*(r_fuel**2)*h_fuel;\n",
    "\n",
    "# channel cylinder\n",
    "channel_cyl = openmc.model.RightCircularCylinder([0.,0.,-h_core/2+1.],\n",
    "                                            h_core-2.,r_channel);\n",
    "# avoid coincident boundaries with the core cell\n",
    "\n",
    "# core cell container\n",
    "core_cell = openmc.model.RectangularParallelepiped(-pitch/2.,pitch/2.,\n",
    "                                                  -pitch/2.,pitch/2.,\n",
    "                                                  -h_core/2.,h_core/2.,\n",
    "                                                  boundary_type='reflective');\n",
    "\n",
    "fuel_cell = openmc.Cell();\n",
    "fuel_cell.region = -fuel_cyl\n",
    "fuel_cell.fill = fuel;\n",
    "fuel_cell.temperature = fuel_temp;\n",
    "\n",
    "\n",
    "channel_cell = openmc.Cell();\n",
    "channel_cell.region = +fuel_cyl & -channel_cyl;\n",
    "channel_cell.fill = coolant;\n",
    "\n",
    "mod_cell = openmc.Cell();\n",
    "mod_cell.region = +channel_cyl & -core_cell;\n",
    "mod_cell.fill = mod\n",
    "mod_cell.temperature = mod_temp;\n",
    "\n",
    "root_univ = openmc.Universe();\n",
    "root_univ.add_cells([fuel_cell,channel_cell,mod_cell]);\n",
    "\n",
    "geometry = openmc.Geometry();\n",
    "geometry.root_universe = root_univ;\n",
    "\n",
    "\n",
    "\n",
    "materials.export_to_xml();\n",
    "geometry.export_to_xml();\n",
    "\n",
    "colors = {}\n",
    "colors[fuel]='yellow'\n",
    "colors[mod]='grey'\n",
    "colors[coolant]='pink'"
   ]
  },
  {
   "cell_type": "code",
   "execution_count": null,
   "id": "daefb794",
   "metadata": {},
   "outputs": [],
   "source": [
    "settings = openmc.Settings();\n",
    "settings.run_mode = 'eigenvalue';\n",
    "settings.particles = 20000;\n",
    "settings.batches = 200;\n",
    "settings.inactive = 50\n",
    "\n",
    "box = openmc.stats.Box(lower_left = (-r_fuel,-r_fuel,-h_fuel/2.),\n",
    "                      upper_right = (r_fuel,r_fuel,h_fuel/2.),\n",
    "                      only_fissionable=True);\n",
    "src = openmc.Source(space=box);\n",
    "\n",
    "settings.source = src;\n",
    "\n",
    "settings.temperature['method']='interpolation';\n",
    "\n",
    "settings.export_to_xml();\n"
   ]
  },
  {
   "cell_type": "code",
   "execution_count": null,
   "id": "21de5c3f",
   "metadata": {},
   "outputs": [],
   "source": [
    "root_univ.plot(width=(pitch,pitch),pixels=[200,200],color_by='material',colors=colors);"
   ]
  },
  {
   "cell_type": "code",
   "execution_count": null,
   "id": "4b30e48a",
   "metadata": {},
   "outputs": [],
   "source": [
    "plot = openmc.Plot()\n",
    "plot.filename = 'HALEU_GCR'\n",
    "plot.width = (pitch, pitch)\n",
    "plot.pixels = (400, 400)\n",
    "plot.color_by = 'material'\n",
    "plot.colors = {fuel: 'yellow', coolant: 'blue', mod: 'grey'}\n",
    "\n",
    "plots = openmc.Plots([plot])\n",
    "plots.export_to_xml()\n",
    "openmc.plot_geometry()\n",
    "!convert model3.ppm model3.png\n"
   ]
  },
  {
   "cell_type": "code",
   "execution_count": null,
   "id": "4e84d35a",
   "metadata": {},
   "outputs": [],
   "source": [
    "from IPython.display import Image\n",
    "Image(\"HALEU_GCR.png\")\n"
   ]
  },
  {
   "cell_type": "code",
   "execution_count": null,
   "id": "04c7cd91",
   "metadata": {},
   "outputs": [],
   "source": [
    "model = openmc.model.Model(geometry,materials,settings)\n",
    "operator = openmc.deplete.CoupledOperator(model,\"chain_endfb71_pwr.xml\");\n",
    "\n",
    "# typical PWR power density\n",
    "full_pd = 20.0; # W/gHM, estimate\n",
    "power_density = [full_pd,full_pd,full_pd,full_pd,full_pd,\n",
    "                full_pd,full_pd,full_pd,full_pd,full_pd,\n",
    "                0,0,0,0,0]; # power density W/gHM \n",
    "# power 0 after 4.5 years with cooldown steps of a day, week, month to 2 years\n",
    "days = 24*3600;\n",
    "time_steps = [0.5*days,0.5*days,1*days,5*days,\n",
    "              23*days,150*days,365*days,365*days,\n",
    "              365*days,365*days,\n",
    "              1*days,6*days,23*days,335*days,365*days];\n",
    "cecm = openmc.deplete.CECMIntegrator(operator,time_steps,power_density=power_density);\n",
    "\n",
    "repeat_depletion = False\n",
    "\n",
    "\n",
    "if(repeat_depletion):\n",
    "    cecm.integrate()\n"
   ]
  },
  {
   "cell_type": "code",
   "execution_count": null,
   "id": "2ace2859",
   "metadata": {},
   "outputs": [],
   "source": [
    "# get depletion results to manipulate\n",
    "r = openmc.deplete.Results('depletion_results.h5')\n",
    "burned_mats = r.export_to_materials(burnup_index=15)\n",
    "burned_mats.export_to_xml('BurnedMaterials15.xml')\n"
   ]
  },
  {
   "cell_type": "code",
   "execution_count": null,
   "id": "ab44b006",
   "metadata": {},
   "outputs": [],
   "source": [
    "print(burned_mats)\n"
   ]
  },
  {
   "cell_type": "code",
   "execution_count": null,
   "id": "ad6ef19c",
   "metadata": {},
   "outputs": [],
   "source": [
    "mat_tree = et.parse('BurnedMaterials15.xml')\n",
    "root = mat_tree.getroot()\n",
    "i=0\n",
    "for child in root:\n",
    "    if child.attrib['name']=='fuel_compact':\n",
    "        uo2_elem = root[i]\n",
    "    i+=1"
   ]
  },
  {
   "cell_type": "code",
   "execution_count": null,
   "id": "5904caa5",
   "metadata": {},
   "outputs": [],
   "source": [
    "# create Material object from element in burned Materials object\n",
    "uo2_elem.set('id',23)\n",
    "print(uo2_elem.items())\n",
    "type(uo2_elem)\n",
    "burned_uo2 = openmc.Material.from_xml_element(uo2_elem)\n",
    "burned_uo2_mass = burned_uo2.get_mass()\n",
    "\n",
    "#burned_uo2 = openmc.Material(name='burned_uo2')\n",
    "#Burned_uo2 = burned_uo2.from_xml_element(uo2_elem)\n",
    "print(burned_uo2)\n",
    "print(burned_uo2_mass)\n"
   ]
  },
  {
   "cell_type": "code",
   "execution_count": null,
   "id": "daeb99ce",
   "metadata": {},
   "outputs": [],
   "source": [
    "listnuc = burned_uo2.get_nuclides() # list of nuclides present in burned fuel"
   ]
  },
  {
   "cell_type": "code",
   "execution_count": null,
   "id": "e4972a9e",
   "metadata": {},
   "outputs": [],
   "source": [
    "# get string with all Pu isotopes present in burned fuel\n",
    "# isotopes that will be present after chemical processing\n",
    "import re\n",
    "Puiso = []\n",
    "for nuclide in listnuc:\n",
    "    if re.search('Pu.+', nuclide):\n",
    "        Puiso.append(nuclide)"
   ]
  },
  {
   "cell_type": "code",
   "execution_count": null,
   "id": "b744e1d5",
   "metadata": {},
   "outputs": [],
   "source": [
    "pu_mass =0.\n",
    "for nuclide in Puiso:\n",
    "    pu_mass+=burned_uo2.get_mass(nuclide=nuclide)\n",
    "print(pu_mass)"
   ]
  },
  {
   "cell_type": "code",
   "execution_count": null,
   "id": "24899d07",
   "metadata": {},
   "outputs": [],
   "source": [
    "pu_mass_fraction = pu_mass/burned_uo2_mass\n",
    "print(pu_mass_fraction)\n"
   ]
  },
  {
   "cell_type": "code",
   "execution_count": null,
   "id": "8484acc1",
   "metadata": {},
   "outputs": [],
   "source": [
    "# create metallic Pu from separated Pu product in Burned Fuel\n",
    "SepPu = openmc.Material(name='PuProduct')\n",
    "SepPu.set_density('g/cc',19.84) # density used for all metallic Plutonium in PNNL Compendium\n",
    "print(Puiso)\n",
    "i = len(Puiso)\n",
    "n = 0\n",
    "BurnPuAo = []\n",
    "while (n < i):\n",
    "    BurnPu = burned_uo2.get_nuclide_atom_densities(Puiso[n])\n",
    "    BurnPuAo.append(BurnPu)\n",
    "    SepPu.add_nuclide(Puiso[n],BurnPu[Puiso[n]])\n",
    "    n+=1\n",
    "print(BurnPuAo)\n",
    "print(SepPu)\n"
   ]
  },
  {
   "cell_type": "code",
   "execution_count": null,
   "id": "ca36e3b2",
   "metadata": {},
   "outputs": [],
   "source": [
    "def build_model(radius, fuel):\n",
    "    \n",
    "    \n",
    "    materials = openmc.Materials([fuel])\n",
    "    \n",
    "    # create sphere with radius parameter\n",
    "    sphere_radius = openmc.Sphere(x0=0,y0=0,z0=0,r=radius, boundary_type='vacuum', name='BCM')\n",
    "    \n",
    "    # create core cell\n",
    "    core_cell = openmc.Cell(name='Bare Critical Sphere')\n",
    "    core_cell.fill = fuel\n",
    "    core_cell.region = -sphere_radius\n",
    "    \n",
    "    # create universe geometry\n",
    "    root_universe = openmc.Universe(name='root universe')\n",
    "    root_universe.add_cells([core_cell])\n",
    "    \n",
    "    geometry = openmc.Geometry(root_universe)\n",
    "    # define criticality settings\n",
    "    settings = openmc.Settings()\n",
    "    settings.run_mode = 'eigenvalue' # keff calculation\n",
    "    settings.particles = 5000 # particles per batch (mo betta)\n",
    "    settings.batches = 250 # number of batches\n",
    "    settings.inactive = 50 # inactive batches\n",
    "    \n",
    "    settings.output = {'tallies': False}\n",
    "    \n",
    "    model = openmc.model.Model(geometry,materials,settings)\n",
    "    \n",
    "    return model"
   ]
  },
  {
   "cell_type": "code",
   "execution_count": null,
   "id": "33b2404b",
   "metadata": {},
   "outputs": [],
   "source": [
    "# get activity from burned fuel\n",
    "print('Target material activity is %5.3g Bq/g ' % burned_uo2.get_activity())\n",
    "burnact = burned_uo2.get_activity(units='Bq/g',by_nuclide=True)\n",
    "print(burnact)"
   ]
  },
  {
   "cell_type": "code",
   "execution_count": null,
   "id": "be688f1a",
   "metadata": {},
   "outputs": [],
   "source": [
    "net_weight_HALEU = BCM/pu_mass_fraction\n",
    "print(net_weight_HALEU,' kg') # in kg only fuel material (no clad)"
   ]
  },
  {
   "cell_type": "code",
   "execution_count": null,
   "id": "961ad4a7",
   "metadata": {},
   "outputs": [],
   "source": [
    "total_spec_act = sum(burnact.values()) \n",
    "totalact = total_spec_act*net_weight_HALEU/(3.7e7) # total activity from nuclear fuel required for one BCM (Ci)\n",
    "print(totalact,' Ci')\n"
   ]
  },
  {
   "cell_type": "code",
   "execution_count": null,
   "id": "b58e82c6",
   "metadata": {},
   "outputs": [],
   "source": []
  }
 ],
 "metadata": {
  "kernelspec": {
   "display_name": "Python 3 (ipykernel)",
   "language": "python",
   "name": "python3"
  },
  "language_info": {
   "codemirror_mode": {
    "name": "ipython",
    "version": 3
   },
   "file_extension": ".py",
   "mimetype": "text/x-python",
   "name": "python",
   "nbconvert_exporter": "python",
   "pygments_lexer": "ipython3",
   "version": "3.11.4"
  }
 },
 "nbformat": 4,
 "nbformat_minor": 5
}
