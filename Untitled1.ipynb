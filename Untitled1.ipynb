{
 "cells": [
  {
   "cell_type": "code",
   "execution_count": null,
   "id": "1b17b46f-9c82-4f0b-9df2-7f6f12d32b28",
   "metadata": {},
   "outputs": [],
   "source": [
    "import openmc\n",
    "import openmc.deplete\n",
    "import matplotlib.pyplot as plt\n",
    "%matplotlib inline\n",
    "import numpy as np\n",
    "import math\n",
    "from math import pi\n",
    "import xml.etree.ElementTree as et\n",
    "import os\n",
    "import matplotlib.pyplot as plt\n",
    "import numpy as np"
   ]
  },
  {
   "cell_type": "code",
   "execution_count": null,
   "id": "a1e69d7b-016a-43f2-a8f3-e397ff4acebc",
   "metadata": {},
   "outputs": [],
   "source": [
    "trisoPkFrac = 0.3 # ratio of triso particle volume to total pebble volume\n",
    "pebblePkFrac = 0.64 # ratio of pebble volume to core volume\n",
    "\n",
    "reflctThickness = 66 # cm\n",
    "\n",
    "erchPercent = 19.75\n",
    "U_form = 1;\n",
    "O_form = 2;\n",
    "rho_fuel = 10.96; # g/cm3\n",
    "\n",
    "trisoPartThicknesses = [253.5, 97.7, 41.9, 37.5, 45.6]; #um\n",
    "\n",
    "coolTemp = 450+273.15 #C -> K\n",
    "coolPres = 8 #MPa"
   ]
  },
  {
   "cell_type": "code",
   "execution_count": null,
   "id": "ada933b8-757f-4651-8b38-8ceff6af9410",
   "metadata": {},
   "outputs": [],
   "source": [
    "#      Buffer\n",
    "buffer = openmc.Material(name='Buffer')\n",
    "buffer.set_density('g/cm3', 1.0)\n",
    "buffer.add_element('C', 1.0)\n",
    "#buffer.add_s_alpha_beta('c_Graphite')\n",
    "\n",
    "#      IPyC\n",
    "IPyC = openmc.Material(name='IPyC')\n",
    "IPyC.set_density('g/cm3', 1.9)\n",
    "IPyC.add_element('C', 1.0)\n",
    "#IPyC.add_s_alpha_beta('c_Graphite')\n",
    "\n",
    "#      SiC\n",
    "SiC = openmc.Material(name='SiC')\n",
    "SiC.set_density('g/cm3', 3.2)\n",
    "SiC.add_element('C', 0.5)\n",
    "SiC.add_element('Si', 0.5)\n",
    "\n",
    "#      OPyC\n",
    "OPyC = openmc.Material(name='OPyC')\n",
    "OPyC.set_density('g/cm3', 1.87)\n",
    "OPyC.add_element('C', 1.0)\n",
    "#OPyC.add_s_alpha_beta('c_Graphite')\n",
    "\n",
    "# Moderator\n",
    "graphite = openmc.Material()\n",
    "graphite.set_density('g/cm3', 1.1995)\n",
    "graphite.add_element('C', 1.0)\n",
    "#graphite.add_s_alpha_beta('c_Graphite')\n",
    "\n",
    "# Coolant\n",
    "He = openmc.Material(name='He')\n",
    "He.set_density('g/cm3',coolPres/coolTemp/2.0771)\n",
    "He.add_element('He',1.0)\n",
    "He.temperature = coolTemp\n",
    "\n",
    "# Reflector\n",
    "Refl = openmc.Material(name='Reflector')\n",
    "Refl.set_density('g/cm3',1.72)\n",
    "Refl.add_element('C',1.0)\n",
    "Refl.add_s_alpha_beta('c_Graphite')"
   ]
  },
  {
   "cell_type": "code",
   "execution_count": null,
   "id": "29d03eb3-4571-45d5-8153-69336110f045",
   "metadata": {},
   "outputs": [],
   "source": [
    "#B5\n",
    "trisoPartRads = trisoPartThicknesses\n",
    "for i in range(1,5):\n",
    "    trisoPartRads[i] += trisoPartRads[i-1]\n",
    "trisoPartVolFracs = trisoPartRads\n",
    "for i in range(5):\n",
    "    trisoPartVolFracs[i] = (trisoPartRads[i]/trisoPartRads[4])**3\n",
    "for i in range(4):\n",
    "    trisoPartVolFracs[4-i] -= trisoPartVolFracs[3-i]\n",
    "    "
   ]
  },
  {
   "cell_type": "code",
   "execution_count": null,
   "id": "a81c65cd-1899-4609-b885-4d722723c1ed",
   "metadata": {},
   "outputs": [],
   "source": [
    "#B6\n",
    "pebbleRads = [25, 30]\n",
    "pebbleVolFracs = pebbleRads\n",
    "for i in range(2):\n",
    "    pebbleVolFracs[i] = (pebbleRads[i]/pebbleRads[1])**3\n",
    "pebbleVolFracs[1] -= pebbleVolFracs[0]\n"
   ]
  },
  {
   "cell_type": "code",
   "execution_count": null,
   "id": "a164ffbc-b8eb-4e26-b16d-58ab7a555edf",
   "metadata": {},
   "outputs": [],
   "source": [
    "trisoPkFrac = 60\n",
    "erchPercent = .1975"
   ]
  },
  {
   "cell_type": "code",
   "execution_count": null,
   "id": "2305c706-8fe7-4d93-b79e-92a6aadd3750",
   "metadata": {},
   "outputs": [],
   "source": [
    "#      Fuel Kernel\n",
    "fuel = openmc.Material(name=\"fuel\")\n",
    "fuel.set_density('g/cm3', rho_fuel)\n",
    "fuel.add_nuclide('U235',erchPercent*U_form/(U_form+O_form))\n",
    "fuel.add_nuclide('U238',((1-erchPercent)*U_form/(U_form+O_form)))\n",
    "fuel.add_element('O', O_form/(U_form+O_form))\n",
    "homogTrisoPart = openmc.Material.mix_materials([fuel, buffer, IPyC, SiC, OPyC], trisoPartVolFracs, 'vo')\n",
    "\n"
   ]
  },
  {
   "cell_type": "code",
   "execution_count": null,
   "id": "5e5fc04f-35a1-498f-83ed-6553918e7be5",
   "metadata": {},
   "outputs": [],
   "source": [
    "#Enrichment Optimization\n",
    "\n",
    "#B4\n",
    "homogTrisoPebCore = openmc.Material.mix_materials([homogTrisoPart,graphite], [trisoPkFrac/100, 1-trisoPkFrac/100], 'vo')\n",
    "homogTrisoPebble = openmc.Material.mix_materials([homogTrisoPebCore, graphite], pebbleVolFracs, 'vo')\n",
    "\n",
    "\n",
    "#B7\n",
    "homogCore = openmc.Material.mix_materials([homogTrisoPebble, He], [pebblePkFrac, 1-pebblePkFrac], 'vo',name='homogCore')\n",
    "homogCore.add_s_alpha_beta('c_Graphite')\n",
    "homogCore.volume = math.pi*50*50*125\n",
    "materials = openmc.Materials()\n",
    "materials += [Refl, homogCore]\n",
    "materials.export_to_xml()\n",
    "\n",
    "    #B8\n",
    "core = openmc.model.RightCircularCylinder([0,0,0], 125, 50, axis='z', boundary_type = 'transmission')\n",
    "rflctr = openmc.model.RightCircularCylinder([0,0,-reflctThickness],2*reflctThickness+125,reflctThickness+50, axis ='z',boundary_type = 'vacuum') \n",
    "rxr = openmc.Cell(fill=homogCore, region=-core)\n",
    "reflect = openmc.Cell(fill = Refl, region =+core&-rflctr)\n",
    "surr = openmc.Cell(region =+rflctr)\n",
    "universe = openmc.Universe(cells=[rxr, reflect, surr])\n",
    "geometry = openmc.Geometry()\n",
    "geometry.root_universe = universe\n",
    "geometry.export_to_xml()\n",
    "settings = openmc.Settings()\n",
    "settings.run_mode = 'eigenvalue'\n",
    "settings.particles = 25000\n",
    "settings.batches = 45\n",
    "settings.inactive = 15\n",
    "settings.temperature={'method':'interpolation','range':(250,2500)}\n",
    "settings.export_to_xml()\n",
    "\n",
    "\n",
    "\n",
    "#B9\n",
    "#num_threads_des = 136  # set as desired.  Can be useful to ensure you do not take over all the resources for a machine\n",
    "#num_threads = min(os.cpu_count(),num_threads_des); # prevent asking for more threads than OMP_NUM_THREADS\n",
    "\n",
    "openmc.run(output=True)\n",
    "sp = openmc.StatePoint('statepoint.45.h5')\n",
    "keff = sp.keff\n",
    "sp.close()"
   ]
  },
  {
   "cell_type": "code",
   "execution_count": null,
   "id": "76e6427e-d6ec-4f25-91bd-d8c89c7b8e58",
   "metadata": {},
   "outputs": [],
   "source": [
    "mdl = openmc.model.Model(geometry, materials, settings)\n",
    "op = openmc.deplete.CoupledOperator(mdl,\"chain_endfb71_pwr.xml\")\n",
    "p = 5e6  # watts\n",
    "power =         [p,     p,  p, p, p, p,    p, p,    p,  0,  0,  0,    0];\n",
    "timesteps =     [.25, .25, .5, 1, 5, 14, 159, 185, 180, 1, 179, 185, 180]  # days\n",
    "openmc.deplete.CECMIntegrator(op, timesteps, power, timestep_units='d').integrate()\n",
    "results = openmc.deplete.Results(\"depletion_results.h5\")"
   ]
  },
  {
   "cell_type": "code",
   "execution_count": null,
   "id": "657e898c-df22-4396-810c-aeb6b5e2e002",
   "metadata": {},
   "outputs": [],
   "source": []
  }
 ],
 "metadata": {
  "kernelspec": {
   "display_name": "Python 3 (ipykernel)",
   "language": "python",
   "name": "python3"
  },
  "language_info": {
   "codemirror_mode": {
    "name": "ipython",
    "version": 3
   },
   "file_extension": ".py",
   "mimetype": "text/x-python",
   "name": "python",
   "nbconvert_exporter": "python",
   "pygments_lexer": "ipython3",
   "version": "3.11.7"
  }
 },
 "nbformat": 4,
 "nbformat_minor": 5
}
