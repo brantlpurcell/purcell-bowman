{
 "cells": [
  {
   "cell_type": "code",
   "execution_count": 2,
   "id": "ce4c1d70-bb90-4d43-ae2c-aaf252f3d4b4",
   "metadata": {},
   "outputs": [],
   "source": [
    "## Import statements\n",
    "\n",
    "import openmc\n",
    "import openmc.deplete\n",
    "import matplotlib.pyplot as plt\n",
    "%matplotlib inline\n",
    "import numpy as np\n",
    "import math\n",
    "from math import pi\n",
    "import xml.etree.ElementTree as et\n",
    "import os\n",
    "import matplotlib.pyplot as plt\n",
    "import numpy as np"
   ]
  },
  {
   "cell_type": "code",
   "execution_count": 18,
   "id": "5ca0b58f-efb8-47ac-8e8c-7108a43fe2d0",
   "metadata": {},
   "outputs": [],
   "source": [
    "# Analysis Specifications\n",
    "keffAnalyze = False\n",
    "depletionAnalyze = False\n",
    "\n",
    "depletionAnalyzed = False"
   ]
  },
  {
   "cell_type": "code",
   "execution_count": 4,
   "id": "0e8c7139-c492-45d2-8c21-8b4bf1730748",
   "metadata": {},
   "outputs": [],
   "source": [
    "# Dimensional Parameters\n",
    "\n",
    "trisoPkFrac = 0.6 # ratio of triso particle volume to total pebble volume\n",
    "pebblePkFrac = 0.64 # ratio of pebble volume to core volume\n",
    "\n",
    "reflctThickness = 66 # cm\n",
    "coreRadius = 50 # cm\n",
    "coreHeight = 125 # cm\n",
    "\n",
    "erchPercent = 19.75 / 100\n",
    "U_form = 1;\n",
    "O_form = 2;\n",
    "rho_fuel = 10.96; # g/cm3\n",
    "\n",
    "trisoPartThicknesses = [253.5, 97.7, 41.9, 37.5, 45.6]; # um\n",
    "\n",
    "coolTemp = 450+273.15 #C -> K\n",
    "coolPres = 8 #MPa"
   ]
  },
  {
   "cell_type": "code",
   "execution_count": 5,
   "id": "7e59cf26",
   "metadata": {},
   "outputs": [],
   "source": [
    "# Material Definitions\n",
    "\n",
    "#      Buffer\n",
    "buffer = openmc.Material(name='Buffer')\n",
    "buffer.set_density('g/cm3', 1.0)\n",
    "buffer.add_element('C', 1.0)\n",
    "\n",
    "#      IPyC\n",
    "IPyC = openmc.Material(name='IPyC')\n",
    "IPyC.set_density('g/cm3', 1.9)\n",
    "IPyC.add_element('C', 1.0)\n",
    "\n",
    "#      SiC\n",
    "SiC = openmc.Material(name='SiC')\n",
    "SiC.set_density('g/cm3', 3.2)\n",
    "SiC.add_element('C', 0.5)\n",
    "SiC.add_element('Si', 0.5)\n",
    "\n",
    "#      OPyC\n",
    "OPyC = openmc.Material(name='OPyC')\n",
    "OPyC.set_density('g/cm3', 1.87)\n",
    "OPyC.add_element('C', 1.0)\n",
    "\n",
    "# Moderator\n",
    "graphite = openmc.Material()\n",
    "graphite.set_density('g/cm3', 1.1995)\n",
    "graphite.add_element('C', 1.0)\n",
    "\n",
    "# Coolant\n",
    "He = openmc.Material(name='He')\n",
    "He.set_density('g/cm3',coolPres/coolTemp/2.0771)\n",
    "He.add_element('He',1.0)\n",
    "He.temperature = coolTemp\n",
    "\n",
    "# Reflector\n",
    "Refl = openmc.Material(name='Reflector')\n",
    "Refl.set_density('g/cm3',1.72)\n",
    "Refl.add_element('C',1.0)\n",
    "Refl.add_s_alpha_beta('c_Graphite')\n"
   ]
  },
  {
   "cell_type": "code",
   "execution_count": 6,
   "id": "4fb84336",
   "metadata": {},
   "outputs": [],
   "source": [
    "#TRISO Particle Volume Fraction Calculations\n",
    "trisoPartRads = trisoPartThicknesses\n",
    "for i in range(1,5):\n",
    "    trisoPartRads[i] += trisoPartRads[i-1]\n",
    "trisoPartVolFracs = trisoPartRads\n",
    "for i in range(5):\n",
    "    trisoPartVolFracs[i] = (trisoPartRads[i]/trisoPartRads[4])**3\n",
    "for i in range(4):\n",
    "    trisoPartVolFracs[4-i] -= trisoPartVolFracs[3-i]"
   ]
  },
  {
   "cell_type": "code",
   "execution_count": 7,
   "id": "799897cd",
   "metadata": {},
   "outputs": [],
   "source": [
    "#Pebble Volume Fraction Calculations\n",
    "pebbleRads = [25, 30]\n",
    "pebbleVolFracs = pebbleRads\n",
    "for i in range(2):\n",
    "    pebbleVolFracs[i] = (pebbleRads[i]/pebbleRads[1])**3\n",
    "pebbleVolFracs[1] -= pebbleVolFracs[0]"
   ]
  },
  {
   "cell_type": "code",
   "execution_count": 8,
   "id": "3766da48-671a-4d05-99d6-f6839a6174aa",
   "metadata": {},
   "outputs": [],
   "source": [
    "#Fuel Kernel Material definition\n",
    "fuel = openmc.Material(name=\"fuel\")\n",
    "fuel.set_density('g/cm3', rho_fuel)\n",
    "fuel.add_nuclide('U235',erchPercent*U_form/(U_form+O_form))\n",
    "fuel.add_nuclide('U238',((1-erchPercent)*U_form/(U_form+O_form)))\n",
    "fuel.add_element('O', O_form/(U_form+O_form))\n",
    "homogTrisoPart = openmc.Material.mix_materials([fuel, buffer, IPyC, SiC, OPyC], trisoPartVolFracs, 'vo')"
   ]
  },
  {
   "cell_type": "code",
   "execution_count": 9,
   "id": "ba4096cd-f436-41ca-aeef-9a2fbf013e02",
   "metadata": {},
   "outputs": [],
   "source": [
    "# Homogenize Pebbles\n",
    "homogTrisoPebCore = openmc.Material.mix_materials([homogTrisoPart,graphite], [trisoPkFrac, 1-trisoPkFrac], 'vo')\n",
    "homogTrisoPebble = openmc.Material.mix_materials([homogTrisoPebCore, graphite], pebbleVolFracs, 'vo')"
   ]
  },
  {
   "cell_type": "code",
   "execution_count": 10,
   "id": "60c9b93b-87a7-4095-bf42-866cc506e295",
   "metadata": {},
   "outputs": [],
   "source": [
    "# Core Homogenization and material definition\n",
    "homogCore = openmc.Material.mix_materials([homogTrisoPebble, He], [pebblePkFrac, 1-pebblePkFrac], 'vo')\n",
    "homogCore.add_s_alpha_beta('c_Graphite')\n",
    "homogCore.volume = math.pi*math.pow(coreRadius, 2)*coreHeight"
   ]
  },
  {
   "cell_type": "code",
   "execution_count": 11,
   "id": "4cbe20d0-a323-4126-98b5-d94b53365329",
   "metadata": {},
   "outputs": [],
   "source": [
    "# Materials File Creation and Export\n",
    "materials = openmc.Materials()\n",
    "materials += [Refl, homogCore]\n",
    "materials.export_to_xml()"
   ]
  },
  {
   "cell_type": "code",
   "execution_count": 12,
   "id": "fdb45bb4-2ff4-43d4-bf94-715f82592b88",
   "metadata": {},
   "outputs": [],
   "source": [
    "# Core Model\n",
    "core = openmc.model.RightCircularCylinder([0,0,0], coreHeight, coreRadius, axis='z', boundary_type = 'transmission')\n",
    "rflctr = openmc.model.RightCircularCylinder([0,0,-reflctThickness],2*reflctThickness+coreHeight,reflctThickness+coreRadius, axis ='z',boundary_type = 'vacuum') \n",
    "rxr = openmc.Cell(fill=homogCore, region=-core)\n",
    "reflect = openmc.Cell(fill = Refl, region =+core&-rflctr)\n",
    "surr = openmc.Cell(region =+rflctr)\n",
    "universe = openmc.Universe(cells=[rxr, reflect, surr])\n",
    "geometry = openmc.Geometry()\n",
    "geometry.root_universe = universe\n",
    "geometry.export_to_xml()"
   ]
  },
  {
   "cell_type": "code",
   "execution_count": 13,
   "id": "031cfa44-9290-44ff-87b8-01587953cc9a",
   "metadata": {},
   "outputs": [],
   "source": [
    "# Settings\n",
    "settings = openmc.Settings()\n",
    "settings.run_mode = 'eigenvalue'\n",
    "settings.particles = 100000\n",
    "settings.batches = 75\n",
    "settings.inactive = 15\n",
    "settings.temperature={'method':'interpolation','range':(250,2500)}\n",
    "settings.export_to_xml()"
   ]
  },
  {
   "cell_type": "code",
   "execution_count": 14,
   "id": "8d39e3ca-8fec-4d6e-8ad8-98602a03a861",
   "metadata": {},
   "outputs": [],
   "source": [
    "# Keff Analysis\n",
    "if keffAnalyze:\n",
    "    num_threads_des = 136  # set as desired.  Can be useful to ensure you do not take over all the resources for a machine\n",
    "    num_threads = min(os.cpu_count(),num_threads_des); # prevent asking for more threads than OMP_NUM_THREADS\n",
    "    openmc.run(output=True)\n",
    "    sp = openmc.StatePoint('statepoint.45.h5')\n",
    "    keff = sp.keff\n",
    "    sp.close()\n",
    "    keffAnalyze = False"
   ]
  },
  {
   "cell_type": "code",
   "execution_count": 15,
   "id": "07f7ea84-7e0f-4212-9899-1cd66fe71d56",
   "metadata": {
    "scrolled": true
   },
   "outputs": [],
   "source": [
    "if depletionAnalyze:\n",
    "    mdl = openmc.model.Model(geometry, materials, settings)\n",
    "    op = openmc.deplete.CoupledOperator(mdl,\"chain_endfb71_pwr.xml\")\n",
    "    p = 5e6  # watts\n",
    "    power =         [p,     p,  p, p, p, p,    p, p,    p,  0,  0,  0,    0];\n",
    "    timesteps =     [.25, .25, .5, 1, 5, 14, 159, 185, 180, 1, 179, 185, 180]  # days\n",
    "    openmc.deplete.CECMIntegrator(op, timesteps, power, timestep_units='d').integrate()\n",
    "    results = openmc.deplete.Results(\"depletion_results.h5\")\n",
    "    depletionAnalyze = False\n",
    "    depletionAnalyzed = True\n"
   ]
  },
  {
   "cell_type": "code",
   "execution_count": 19,
   "id": "c8b72c21-401b-4e9a-9f51-153112864e9f",
   "metadata": {},
   "outputs": [],
   "source": [
    "if depletionAnalyzed:\n",
    "    time, KEFF= results.get_keff()\n",
    "    time = time / (60*60*24*365.25);\n",
    "    keff_u = []\n",
    "    keff = []\n",
    "    for k in KEFF:\n",
    "        keff_u.append(k[1])\n",
    "        keff.append(k[0])"
   ]
  },
  {
   "cell_type": "code",
   "execution_count": 21,
   "id": "fd20e08d-ca4b-492c-8b2d-d9ef34cfe581",
   "metadata": {},
   "outputs": [],
   "source": [
    "if depletionAnalyzed:\n",
    "    plt.errorbar(np.array(time), np.array(keff), np.array(keff_u))"
   ]
  },
  {
   "cell_type": "code",
   "execution_count": 25,
   "id": "3dd5422e-d060-4725-a5b8-e4c965f9868c",
   "metadata": {},
   "outputs": [
    {
     "ename": "AttributeError",
     "evalue": "'Material' object has no attribute 'set'",
     "output_type": "error",
     "traceback": [
      "\u001b[0;31m---------------------------------------------------------------------------\u001b[0m",
      "\u001b[0;31mAttributeError\u001b[0m                            Traceback (most recent call last)",
      "Cell \u001b[0;32mIn[25], line 13\u001b[0m\n\u001b[1;32m     11\u001b[0m         \u001b[38;5;28;01mbreak\u001b[39;00m\n\u001b[1;32m     12\u001b[0m     i\u001b[38;5;241m+\u001b[39m\u001b[38;5;241m=\u001b[39m\u001b[38;5;241m1\u001b[39m\n\u001b[0;32m---> 13\u001b[0m \u001b[43mhomogCore\u001b[49m\u001b[38;5;241;43m.\u001b[39;49m\u001b[43mset\u001b[49m(\u001b[38;5;124m'\u001b[39m\u001b[38;5;124mid\u001b[39m\u001b[38;5;124m'\u001b[39m,\u001b[38;5;241m24\u001b[39m)\n\u001b[1;32m     14\u001b[0m \u001b[38;5;28mprint\u001b[39m(homogCore\u001b[38;5;241m.\u001b[39mitems())\n\u001b[1;32m     15\u001b[0m \u001b[38;5;28mtype\u001b[39m(homogCore)\n",
      "\u001b[0;31mAttributeError\u001b[0m: 'Material' object has no attribute 'set'"
     ]
    }
   ],
   "source": [
    "# get depletion results to manipulate\n",
    "r = openmc.deplete.Results('depletion_results.h5')\n",
    "burned_mats = r.export_to_materials(burnup_index=13)\n",
    "burned_mats.export_to_xml('BurnedMaterials13.xml')\n",
    "mat_tree = et.parse('BurnedMaterials13.xml')\n",
    "root = mat_tree.getroot()\n",
    "i=0\n",
    "for child in root:\n",
    "    if child.attrib['name']=='homogCore':\n",
    "        homogCore = root[i]\n",
    "        break\n",
    "    i+=1\n",
    "homogCore.set('id',24)\n",
    "print(homogCore.items())\n",
    "type(homogCore)\n",
    "burned_homogCore = openmc.Material.from_xml_element(homogCore)\n",
    "burned_homogCore_mass = burned_homogCore.get_mass()\n",
    "listnuc = burned_homogCore.get_nuclides() # list of nuclides present in burned fuel\n",
    "import re\n",
    "Puiso = []\n",
    "for nuclide in listnuc:\n",
    "    if re.search('Pu.+', nuclide):\n",
    "        Puiso.append(nuclide)\n",
    "pu_mass =0.\n",
    "for nuclide in Puiso:\n",
    "    pu_mass+=burned_homogCore.get_mass(nuclide=nuclide)\n",
    "pu_mass_fraction = pu_mass/burned_homogCore_mass\n",
    "SepPu = openmc.Material(name='PuProduct')\n",
    "SepPu.set_density('g/cc',19.84) # density used for all metallic Plutonium in PNNL Compendium\n",
    "print(Puiso)\n",
    "i = len(Puiso)\n",
    "n = 0\n",
    "BurnPuAo = []\n",
    "while (n < i):\n",
    "    BurnPu = burned_homogCore.get_nuclide_atom_densities(Puiso[n])\n",
    "    BurnPuAo.append(BurnPu)\n",
    "    SepPu.add_nuclide(Puiso[n],BurnPu[Puiso[n]])\n",
    "    n+=1"
   ]
  },
  {
   "cell_type": "code",
   "execution_count": null,
   "id": "15671353-daa0-4b75-a421-70f892af6da3",
   "metadata": {},
   "outputs": [],
   "source": [
    "def build_model(radius, fuel):\n",
    "    \n",
    "    \n",
    "    materials = openmc.Materials([fuel])\n",
    "    \n",
    "    # create sphere with radius parameter\n",
    "    sphere_radius = openmc.Sphere(x0=0,y0=0,z0=0,r=radius, boundary_type='vacuum', name='BCM')\n",
    "    \n",
    "    # create core cell\n",
    "    core_cell = openmc.Cell(name='Bare Critical Sphere')\n",
    "    core_cell.fill = fuel\n",
    "    core_cell.region = -sphere_radius\n",
    "    \n",
    "    # create universe geometry\n",
    "    root_universe = openmc.Universe(name='root universe')\n",
    "    root_universe.add_cells([core_cell])\n",
    "    \n",
    "    geometry = openmc.Geometry(root_universe)\n",
    "    # define criticality settings\n",
    "    settings = openmc.Settings()\n",
    "    settings.run_mode = 'eigenvalue' # keff calculation\n",
    "    settings.particles = 5000 # particles per batch (mo betta)\n",
    "    settings.batches = 250 # number of batches\n",
    "    settings.inactive = 50 # inactive batches\n",
    "    \n",
    "    settings.output = {'tallies': False}\n",
    "    \n",
    "    bcmModel = openmc.model.Model(geometry,materials,settings)\n",
    "    \n",
    "    return bcmModel"
   ]
  },
  {
   "cell_type": "code",
   "execution_count": null,
   "id": "ed18ff56-51f2-4435-bf10-8fa6770cc732",
   "metadata": {},
   "outputs": [],
   "source": [
    "crit_r, guesses, keffs = openmc.search_for_keff(build_model, bracket=[1,50],model_args={'fuel':SepPu},\n",
    "                                                tol=1e-4, print_iterations=True,\n",
    "                                               run_args={'output':False})\n",
    "# print results and collect data\n",
    "print('Burned Plutonium Critical Mass')\n",
    "print('The bare critical sphere radius is %7.4f cm.' % crit_r)\n",
    "crit_v = 4/3*pi*crit_r**3 # volume of critical sphere (cc)\n",
    "\n",
    "BCM = crit_v * 19.84 /1000 # mass of critical radius (kg)\n",
    "print('The bare critical mass is %7.3f kg.' % BCM)\n",
    "\n",
    "BCMs = np.array(BCM)\n",
    "print(BCMs,\n",
    "      '\\n')\n"
   ]
  }
 ],
 "metadata": {
  "kernelspec": {
   "display_name": "Python 3 (ipykernel)",
   "language": "python",
   "name": "python3"
  },
  "language_info": {
   "codemirror_mode": {
    "name": "ipython",
    "version": 3
   },
   "file_extension": ".py",
   "mimetype": "text/x-python",
   "name": "python",
   "nbconvert_exporter": "python",
   "pygments_lexer": "ipython3",
   "version": "3.11.8"
  }
 },
 "nbformat": 4,
 "nbformat_minor": 5
}
